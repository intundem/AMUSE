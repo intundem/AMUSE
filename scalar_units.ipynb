{
 "cells": [
  {
   "cell_type": "markdown",
   "metadata": {},
   "source": [
    "AMUSE tutorial on units\n",
    "====================\n",
    "\n",
    "Here we will start up an AMUSE service in Jupyter notebook and run some example operations."
   ]
  },
  {
   "cell_type": "code",
   "execution_count": 1,
   "metadata": {},
   "outputs": [],
   "source": [
    "#Load in the amuse units module\n",
    "from amuse.units import units\n",
    "import numpy as np"
   ]
  },
  {
   "cell_type": "code",
   "execution_count": 2,
   "metadata": {},
   "outputs": [],
   "source": [
    "# Declare some variables\n",
    "mstar = 1 | units.MSun\n",
    "rstar = 1 | units.RSun"
   ]
  },
  {
   "cell_type": "code",
   "execution_count": 3,
   "metadata": {},
   "outputs": [],
   "source": [
    "# calculate surface escape speed\n",
    "# this requires the gravitational constant to be declared\n",
    "G = 6.67e-11 | units.m**3 * units.kg**-1 * units.s**-2\n",
    "vesc = (2*G*mstar/rstar).sqrt()"
   ]
  },
  {
   "cell_type": "code",
   "execution_count": 4,
   "metadata": {},
   "outputs": [],
   "source": [
    "# alternative, define G units beforehand\n",
    "units_G = units.m**3 * units.kg**-1 * units.s**-2\n",
    "G = 6.67e-11 | units_G\n",
    "vesc = (2* G * mstar / rstar).sqrt()"
   ]
  },
  {
   "cell_type": "code",
   "execution_count": 5,
   "metadata": {},
   "outputs": [
    {
     "name": "stdout",
     "output_type": "stream",
     "text": [
      "The escape speed is: 1.15498917744e-05 53476144765.21653 * m * s**-1\n"
     ]
    }
   ],
   "source": [
    "print(\"The escape speed is:\", vesc)"
   ]
  },
  {
   "cell_type": "markdown",
   "metadata": {},
   "source": [
    "This looks weird, right? But it is the right answer. AMUSE will operate on \"lazy calculating\", meaning that it will only perform the actual calculation once it is explicitely asked for it.\n",
    "Not try converting the unit to something more readable."
   ]
  },
  {
   "cell_type": "code",
   "execution_count": 6,
   "metadata": {},
   "outputs": [
    {
     "name": "stdout",
     "output_type": "stream",
     "text": [
      "The escape speed is: 617.64368455 kms\n"
     ]
    }
   ],
   "source": [
    "print(\"The escape speed is:\", vesc.in_(units.kms))"
   ]
  },
  {
   "cell_type": "markdown",
   "metadata": {},
   "source": [
    "Now you have to realize, that you used the wrong value for the gravitational constant G. The values of most important constants are stored in the AMUSE framework. They can be accessed by loading in the appropriate module."
   ]
  },
  {
   "cell_type": "code",
   "execution_count": 7,
   "metadata": {},
   "outputs": [
    {
     "name": "stdout",
     "output_type": "stream",
     "text": [
      "The escape speed is: 617.841817311 kms\n"
     ]
    }
   ],
   "source": [
    "from amuse.units.constants import G\n",
    "vesc = (2*G*mstar/rstar).sqrt()\n",
    "print(\"The escape speed is:\", vesc.in_(units.kms))"
   ]
  },
  {
   "cell_type": "markdown",
   "metadata": {},
   "source": [
    "You have now calculated the escape speed from the Solar surface.\n",
    "\n",
    "Assignments and questions:\n",
    "---------------"
   ]
  },
  {
   "cell_type": "markdown",
   "metadata": {},
   "source": [
    "### Assignment 1:\n",
    "Calculate the orbital velocity of the planet Earth in orbit around the Sun."
   ]
  },
  {
   "cell_type": "code",
   "execution_count": 8,
   "metadata": {},
   "outputs": [
    {
     "name": "stdout",
     "output_type": "stream",
     "text": [
      "The Earth orbits the Sun with 6.283185307179586 * AU / yr\n"
     ]
    }
   ],
   "source": [
    "# P**2 = (4 * pi**2) / (G * M) * r**3\n",
    "velocity = (2 * units.pi * units.AU) / units.yr\n",
    "print(\"The Earth orbits the Sun with\",velocity)"
   ]
  },
  {
   "cell_type": "markdown",
   "metadata": {},
   "source": [
    "### Assignment 2:\n",
    "Calculate the escape speed of the supermassive black hole in the Galactic center from the pericenter of S2 (the star famously used to characterize the central supermassive black hole)."
   ]
  },
  {
   "cell_type": "code",
   "execution_count": 9,
   "metadata": {},
   "outputs": [
    {
     "name": "stdout",
     "output_type": "stream",
     "text": [
      "The escape velocity is 7838.00946325 kms\n"
     ]
    }
   ],
   "source": [
    "a = 120 | units.AU # pericenter of S2\n",
    "M = 4.154e6 | units.MSun\n",
    "\n",
    "vesc = (2* G * M / a).sqrt()\n",
    "print(\"The escape velocity is\", vesc.in_(units.kms))"
   ]
  },
  {
   "cell_type": "markdown",
   "metadata": {},
   "source": [
    "### Question 1:\n",
    "What is the range in velocities with which you expect an asteroid to hit the Earth's surface? Assume that there are asteroids with semimajor axes between 0 and 3.5 AU (the outer edge of the asteroid belt), with eccentricities between 0 and 0.4. Note that for an elliptic orbit, the peri- and apocenter distances are $(1\\pm e)a$, and the peri- and apocenter speeds are $\\sqrt{\\frac{(1\\pm e)\\cdot GM}{(1\\mp e)a}}$. Is the acceleration due to the Earth's gravitational well important?"
   ]
  },
  {
   "cell_type": "code",
   "execution_count": 10,
   "metadata": {},
   "outputs": [
    {
     "name": "stdout",
     "output_type": "stream",
     "text": [
      "Asteroids in orbit reach maximum velocity at the apogee, and minimum velocity at the perigee. The greater the eccentricity, the greater the difference between these velocities.\n",
      "\n",
      "For an asteroid orbit with semimajor axis 0.7142857142857143 * AU and eccentricity 0.4 :\n",
      "    Perigee velocity: 23.0740477893 kms, at 0.4285714285714285 AU\n",
      "    Apogee velocity:, 53.8394448416 kms, at 0.9999999999999998 AU\n",
      "\n",
      "For an asteroid orbit with semimajor axis 1.6666666666666667 * AU and eccentricity 0.4 :\n",
      "    Perigee velocity: 15.1055100833 kms, at 1 AU\n",
      "    Apogee velocity:, 35.2461901944 kms, at 2.3333333333333335 AU\n",
      "\n",
      "The minimum velocity is 15.1055100833 kms\n",
      "The maximum velocity is 53.8394448416 kms\n",
      "\n",
      "At the surface of the Earth, the asteroid would be accelerated by its gravitational well by around 0.00981 km/s**2, which is negligible even compared to the velocity at the perigee.\n"
     ]
    }
   ],
   "source": [
    "def speeds(a, e):\n",
    "    M = 1 | units.MSun\n",
    "    print(f\"\\nFor an asteroid orbit with semimajor axis {a} and eccentricity {e} :\")\n",
    "    \n",
    "    peri_distance = ((1-e)*a)\n",
    "    peri = ( ((1-e)/(1+e)) * G*M.in_(units.kg)/a.in_(units.m) ).sqrt()\n",
    "    print(f\"    Perigee velocity: {peri.in_(units.kms)}, at {((1-e)*a).in_(units.AU)}\")\n",
    "    apo  = ( ((1+e)/(1-e)) * G*M.in_(units.kg)/a.in_(units.m) ).sqrt()\n",
    "    print(f\"    Apogee velocity:, {apo.in_(units.kms)}, at {((1+e)*a).in_(units.AU)}\")\n",
    "    return peri.in_(units.kms), apo.in_(units.kms)\n",
    "\n",
    "print(\"Asteroids in orbit reach maximum velocity at the apogee, and minimum velocity at the perigee.\",\n",
    "      \"The greater the eccentricity, the greater the difference between these velocities.\")\n",
    "\n",
    "peri0, apo = speeds(1/1.4*units.AU, 0.4)\n",
    "peri, apo0 = speeds(1/.6*units.AU, 0.4)\n",
    "\n",
    "print()\n",
    "print(\"The minimum velocity is\", peri)\n",
    "print(\"The maximum velocity is\", apo)\n",
    "\n",
    "print(\"\\nAt the surface of the Earth, the asteroid would be accelerated by its gravitational well\", \n",
    "      \"by around 0.00981 km/s**2, which is negligible even compared to the velocity at the perigee.\")"
   ]
  },
  {
   "cell_type": "markdown",
   "metadata": {},
   "source": [
    "### Question 2:\n",
    "With a photospheric effective temperature of 5772K (see [Wikipedia](https://en.wikipedia.org/wiki/Sun)), what is the Sun's luminosity?\n",
    "*note here that the Stefan-Bolzmann constant in AMUSE is available in the units.constants package under the name of Stefan_hyphen_Boltzmann_constant.*\n",
    "\n",
    "Calculate the difference with the standard in AMUSE available solar luminosity (1 | units.LSun). Whay are the two values different?\n",
    "\n",
    "If the discrepancy originates from the photospheric effective temperature from Wikipedia, what would be the correct temperature to match the Solar luminosity?"
   ]
  },
  {
   "cell_type": "code",
   "execution_count": 11,
   "metadata": {},
   "outputs": [
    {
     "name": "stdout",
     "output_type": "stream",
     "text": [
      "Using the Stefan-Boltzmann law, for black bodies: L = SB * ASun * TSun**4)\n",
      "Luminosity from T = 5772 K: 3.825807535511534e+26 W\n",
      "Luminosity from units.LSun: 3.839e+26 W\n",
      "Luminosity according to Wikipedia: 3.828e+26 W\n"
     ]
    }
   ],
   "source": [
    "from amuse.units.constants import Stefan_hyphen_Boltzmann_constant as SB\n",
    "\n",
    "TSun = 5772 | units.K # sun's photospheric effective temperature\n",
    "ASun = 4*units.pi*(units.RSun.in_(units.km))**2\n",
    "L = SB * TSun**4 * ASun\n",
    "\n",
    "print(\"Using the Stefan-Boltzmann law, for black bodies: L = SB * ASun * TSun**4)\")\n",
    "\n",
    "print(\"Luminosity from T = 5772 K:\", L.in_(units.W))\n",
    "\n",
    "print(\"Luminosity from units.LSun:\", units.LSun.in_(units.W))\n",
    "\n",
    "#print(f\"units.LSun is slightly higher (by {(units.LSun.in_(units.W) - L.in_(units.W))/L.in_(units.W)} percent)\")\n",
    "# discrepancy? \n",
    "\n",
    "print(\"Luminosity according to Wikipedia:\", 3.828e26 | units.W)"
   ]
  },
  {
   "cell_type": "code",
   "execution_count": 12,
   "metadata": {},
   "outputs": [
    {
     "name": "stdout",
     "output_type": "stream",
     "text": [
      "LSun\n",
      "5.6704e-08 W * m**-2 * K**-4\n",
      "6078607935170.473 1000000.0 * m**2\n",
      "\n",
      "1.1137822273673987e+21 1e-06 * K**4\n",
      "\n",
      "(2.901230079102367e-06 * LSun)**-4 (1e-06 * m**-2 * kg**-1 * s**3 * K**4)**-4\n"
     ]
    },
    {
     "ename": "IncompatibleUnitsException",
     "evalue": "Cannot express (1e-06 * m**-2 * kg**-1 * s**3 * K**4)**-4 in K**4, the units do not have the same bases",
     "output_type": "error",
     "traceback": [
      "\u001b[0;31m---------------------------------------------------------------------------\u001b[0m",
      "\u001b[0;31mKeyError\u001b[0m                                  Traceback (most recent call last)",
      "\u001b[0;32m~/.local/lib/python3.8/site-packages/amuse/support/core.py\u001b[0m in \u001b[0;36mmemof\u001b[0;34m(*arg)\u001b[0m\n\u001b[1;32m    517\u001b[0m         \u001b[0;32mtry\u001b[0m\u001b[0;34m:\u001b[0m\u001b[0;34m\u001b[0m\u001b[0;34m\u001b[0m\u001b[0m\n\u001b[0;32m--> 518\u001b[0;31m             \u001b[0;32mreturn\u001b[0m \u001b[0mmemof\u001b[0m\u001b[0;34m.\u001b[0m\u001b[0md\u001b[0m\u001b[0;34m[\u001b[0m\u001b[0marg\u001b[0m\u001b[0;34m]\u001b[0m\u001b[0;34m\u001b[0m\u001b[0;34m\u001b[0m\u001b[0m\n\u001b[0m\u001b[1;32m    519\u001b[0m         \u001b[0;32mexcept\u001b[0m\u001b[0;34m:\u001b[0m\u001b[0;34m\u001b[0m\u001b[0;34m\u001b[0m\u001b[0m\n",
      "\u001b[0;31mKeyError\u001b[0m: (unit<(1e-06 * m**-2 * kg**-1 * s**3 * K**4)**-4>, unit<K**4>)",
      "\nDuring handling of the above exception, another exception occurred:\n",
      "\u001b[0;31mIncompatibleUnitsException\u001b[0m                Traceback (most recent call last)",
      "\u001b[0;32m/tmp/ipykernel_58749/4146925364.py\u001b[0m in \u001b[0;36m<cell line: 14>\u001b[0;34m()\u001b[0m\n\u001b[1;32m     12\u001b[0m \u001b[0mT\u001b[0m \u001b[0;34m=\u001b[0m \u001b[0;34m(\u001b[0m\u001b[0munits\u001b[0m\u001b[0;34m.\u001b[0m\u001b[0mLSun\u001b[0m \u001b[0;34m/\u001b[0m \u001b[0;34m(\u001b[0m\u001b[0mSB\u001b[0m\u001b[0;34m*\u001b[0m\u001b[0mASun\u001b[0m\u001b[0;34m)\u001b[0m\u001b[0;34m)\u001b[0m\u001b[0;34m**\u001b[0m\u001b[0;34m-\u001b[0m\u001b[0;36m4\u001b[0m\u001b[0;34m\u001b[0m\u001b[0;34m\u001b[0m\u001b[0m\n\u001b[1;32m     13\u001b[0m \u001b[0mprint\u001b[0m\u001b[0;34m(\u001b[0m\u001b[0mT\u001b[0m\u001b[0;34m)\u001b[0m\u001b[0;34m\u001b[0m\u001b[0;34m\u001b[0m\u001b[0m\n\u001b[0;32m---> 14\u001b[0;31m \u001b[0mprint\u001b[0m\u001b[0;34m(\u001b[0m\u001b[0mT\u001b[0m\u001b[0;34m.\u001b[0m\u001b[0min_\u001b[0m\u001b[0;34m(\u001b[0m\u001b[0munits\u001b[0m\u001b[0;34m.\u001b[0m\u001b[0mK\u001b[0m\u001b[0;34m**\u001b[0m\u001b[0;36m4\u001b[0m\u001b[0;34m)\u001b[0m\u001b[0;34m)\u001b[0m\u001b[0;34m\u001b[0m\u001b[0;34m\u001b[0m\u001b[0m\n\u001b[0m\u001b[1;32m     15\u001b[0m \u001b[0;31m#print(T.in_(units.K))\u001b[0m\u001b[0;34m\u001b[0m\u001b[0;34m\u001b[0m\u001b[0;34m\u001b[0m\u001b[0m\n\u001b[1;32m     16\u001b[0m \u001b[0mT\u001b[0m \u001b[0;34m=\u001b[0m \u001b[0;34m(\u001b[0m\u001b[0munits\u001b[0m\u001b[0;34m.\u001b[0m\u001b[0mLSun\u001b[0m \u001b[0;34m/\u001b[0m \u001b[0mSB\u001b[0m \u001b[0;34m/\u001b[0m \u001b[0mASun\u001b[0m\u001b[0;34m)\u001b[0m\u001b[0;31m#**-4\u001b[0m\u001b[0;34m\u001b[0m\u001b[0;34m\u001b[0m\u001b[0m\n",
      "\u001b[0;32m~/.local/lib/python3.8/site-packages/amuse/units/quantities.py\u001b[0m in \u001b[0;36mas_quantity_in\u001b[0;34m(self, another_unit)\u001b[0m\n\u001b[1;32m    196\u001b[0m         \u001b[0;32mif\u001b[0m \u001b[0misinstance\u001b[0m\u001b[0;34m(\u001b[0m\u001b[0manother_unit\u001b[0m\u001b[0;34m,\u001b[0m \u001b[0mQuantity\u001b[0m\u001b[0;34m)\u001b[0m\u001b[0;34m:\u001b[0m\u001b[0;34m\u001b[0m\u001b[0;34m\u001b[0m\u001b[0m\n\u001b[1;32m    197\u001b[0m             \u001b[0;32mraise\u001b[0m \u001b[0mexceptions\u001b[0m\u001b[0;34m.\u001b[0m\u001b[0mAmuseException\u001b[0m\u001b[0;34m(\u001b[0m\u001b[0;34m\"Cannot expres a unit in a quantity\"\u001b[0m\u001b[0;34m)\u001b[0m\u001b[0;34m\u001b[0m\u001b[0;34m\u001b[0m\u001b[0m\n\u001b[0;32m--> 198\u001b[0;31m         \u001b[0mfactor\u001b[0m \u001b[0;34m=\u001b[0m \u001b[0mself\u001b[0m\u001b[0;34m.\u001b[0m\u001b[0munit\u001b[0m\u001b[0;34m.\u001b[0m\u001b[0mconversion_factor_from\u001b[0m\u001b[0;34m(\u001b[0m\u001b[0manother_unit\u001b[0m\u001b[0;34m)\u001b[0m\u001b[0;34m\u001b[0m\u001b[0;34m\u001b[0m\u001b[0m\n\u001b[0m\u001b[1;32m    199\u001b[0m         \u001b[0;32mreturn\u001b[0m \u001b[0mnew_quantity\u001b[0m\u001b[0;34m(\u001b[0m\u001b[0mself\u001b[0m\u001b[0;34m.\u001b[0m\u001b[0mnumber\u001b[0m \u001b[0;34m*\u001b[0m \u001b[0mfactor\u001b[0m\u001b[0;34m,\u001b[0m \u001b[0manother_unit\u001b[0m\u001b[0;34m)\u001b[0m\u001b[0;34m\u001b[0m\u001b[0;34m\u001b[0m\u001b[0m\n\u001b[1;32m    200\u001b[0m \u001b[0;34m\u001b[0m\u001b[0m\n",
      "\u001b[0;32m~/.local/lib/python3.8/site-packages/amuse/support/core.py\u001b[0m in \u001b[0;36mmemof\u001b[0;34m(*arg)\u001b[0m\n\u001b[1;32m    518\u001b[0m             \u001b[0;32mreturn\u001b[0m \u001b[0mmemof\u001b[0m\u001b[0;34m.\u001b[0m\u001b[0md\u001b[0m\u001b[0;34m[\u001b[0m\u001b[0marg\u001b[0m\u001b[0;34m]\u001b[0m\u001b[0;34m\u001b[0m\u001b[0;34m\u001b[0m\u001b[0m\n\u001b[1;32m    519\u001b[0m         \u001b[0;32mexcept\u001b[0m\u001b[0;34m:\u001b[0m\u001b[0;34m\u001b[0m\u001b[0;34m\u001b[0m\u001b[0m\n\u001b[0;32m--> 520\u001b[0;31m             \u001b[0mresult\u001b[0m\u001b[0;34m=\u001b[0m\u001b[0mf\u001b[0m\u001b[0;34m(\u001b[0m\u001b[0;34m*\u001b[0m\u001b[0marg\u001b[0m\u001b[0;34m)\u001b[0m\u001b[0;34m\u001b[0m\u001b[0;34m\u001b[0m\u001b[0m\n\u001b[0m\u001b[1;32m    521\u001b[0m             \u001b[0;32mif\u001b[0m \u001b[0mlen\u001b[0m\u001b[0;34m(\u001b[0m\u001b[0mmemof\u001b[0m\u001b[0;34m.\u001b[0m\u001b[0md\u001b[0m\u001b[0;34m)\u001b[0m\u001b[0;34m>\u001b[0m\u001b[0;36m5000\u001b[0m\u001b[0;34m:\u001b[0m\u001b[0;34m\u001b[0m\u001b[0;34m\u001b[0m\u001b[0m\n\u001b[1;32m    522\u001b[0m                 \u001b[0;32mreturn\u001b[0m \u001b[0mresult\u001b[0m\u001b[0;34m\u001b[0m\u001b[0;34m\u001b[0m\u001b[0m\n",
      "\u001b[0;32m~/.local/lib/python3.8/site-packages/amuse/units/core.py\u001b[0m in \u001b[0;36mconversion_factor_from\u001b[0;34m(self, x)\u001b[0m\n\u001b[1;32m    300\u001b[0m             \u001b[0;32mreturn\u001b[0m \u001b[0;36m1\u001b[0m\u001b[0;34m*\u001b[0m\u001b[0;34m(\u001b[0m\u001b[0mthis_factor\u001b[0m \u001b[0;34m==\u001b[0m \u001b[0mother_factor\u001b[0m\u001b[0;34m)\u001b[0m \u001b[0;32mor\u001b[0m \u001b[0mthis_factor\u001b[0m \u001b[0;34m/\u001b[0m \u001b[0mother_factor\u001b[0m\u001b[0;34m\u001b[0m\u001b[0;34m\u001b[0m\u001b[0m\n\u001b[1;32m    301\u001b[0m         \u001b[0;32melse\u001b[0m\u001b[0;34m:\u001b[0m\u001b[0;34m\u001b[0m\u001b[0;34m\u001b[0m\u001b[0m\n\u001b[0;32m--> 302\u001b[0;31m             \u001b[0;32mraise\u001b[0m \u001b[0mIncompatibleUnitsException\u001b[0m\u001b[0;34m(\u001b[0m\u001b[0mx\u001b[0m\u001b[0;34m,\u001b[0m \u001b[0mself\u001b[0m\u001b[0;34m)\u001b[0m\u001b[0;34m\u001b[0m\u001b[0;34m\u001b[0m\u001b[0m\n\u001b[0m\u001b[1;32m    303\u001b[0m \u001b[0;34m\u001b[0m\u001b[0m\n\u001b[1;32m    304\u001b[0m \u001b[0;34m\u001b[0m\u001b[0m\n",
      "\u001b[0;31mIncompatibleUnitsException\u001b[0m: Cannot express (1e-06 * m**-2 * kg**-1 * s**3 * K**4)**-4 in K**4, the units do not have the same bases"
     ]
    }
   ],
   "source": [
    "## the units really don't seem to want to agree here, what is going on?\n",
    "\n",
    "# L = SB * T**4 * A\n",
    "# invert SB law\n",
    "T = (units.LSun.in_(units.W) / SB / ASun)#**-4\n",
    "print(units.LSun)\n",
    "print(SB)\n",
    "print(ASun)\n",
    "print()\n",
    "print(T)\n",
    "print()\n",
    "T = (units.LSun / (SB*ASun))**-4\n",
    "print(T)\n",
    "print(T.in_(units.K**4))\n",
    "#print(T.in_(units.K))\n",
    "T = (units.LSun / SB / ASun)#**-4\n",
    "print(T)\n",
    "#print(T.in_(units.K**4))\n",
    "#print(T.in_(units.K))"
   ]
  }
 ],
 "metadata": {
  "kernelspec": {
   "display_name": "Python 3 (ipykernel)",
   "language": "python",
   "name": "python3"
  },
  "language_info": {
   "codemirror_mode": {
    "name": "ipython",
    "version": 3
   },
   "file_extension": ".py",
   "mimetype": "text/x-python",
   "name": "python",
   "nbconvert_exporter": "python",
   "pygments_lexer": "ipython3",
   "version": "3.8.10"
  }
 },
 "nbformat": 4,
 "nbformat_minor": 4
}
